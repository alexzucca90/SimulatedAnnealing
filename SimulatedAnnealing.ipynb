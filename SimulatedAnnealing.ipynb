{
 "cells": [
  {
   "cell_type": "markdown",
   "metadata": {},
   "source": [
    "# Simulated Annealing\n",
    "\n",
    "A simple Simulated Annealing solver in Python\n",
    "\n",
    "Of course this implementation is not very efficient, but it is a good starting point for understanding Simulated Annealing for Ising Models."
   ]
  },
  {
   "cell_type": "code",
   "execution_count": 1,
   "metadata": {},
   "outputs": [],
   "source": [
    "import numpy as np\n",
    "import scipy \n",
    "import matplotlib.pyplot as plt"
   ]
  },
  {
   "cell_type": "markdown",
   "metadata": {},
   "source": [
    "Here we want to use the following Energy configuration\n",
    "\n",
    "$$\n",
    "E = \\sum_{i} h_i s_i + \\sum_{i < j} J_{ij} s_i s_j,\n",
    "$$\n",
    "where $s_i$ is the $i$-th spin, $h$ is the bias vector and $J$ is the coupling matrix"
   ]
  },
  {
   "cell_type": "code",
   "execution_count": 2,
   "metadata": {},
   "outputs": [],
   "source": [
    "# define the Hamiltonian\n",
    "def Energy(h,J,s):\n",
    "    E =  h.T @ s + s.T @ J @ s\n",
    "    return E"
   ]
  },
  {
   "cell_type": "markdown",
   "metadata": {},
   "source": [
    "for the Metropolis-Hastings algorithm we need to calculate the variation in Energy. The following implementation is the most general. However, most of the time the topology of the problem, i.e. how the matrix $J$ is structured, allows to compute $\\Delta E$ in a more efficient way."
   ]
  },
  {
   "cell_type": "code",
   "execution_count": 3,
   "metadata": {},
   "outputs": [],
   "source": [
    "def DeltaEnergy(s, s_new, h, J):\n",
    "    dE = Energy(h, J, s_new) - Energy(h,J,s)\n",
    "    return dE"
   ]
  },
  {
   "cell_type": "markdown",
   "metadata": {},
   "source": [
    "This function randomly prepares the initial state"
   ]
  },
  {
   "cell_type": "code",
   "execution_count": 4,
   "metadata": {},
   "outputs": [],
   "source": [
    "def PrepareInitialState(L):\n",
    "    a = np.random.binomial(1,.5, L*L)\n",
    "    a[np.where(a==0)] = -1\n",
    "    return a"
   ]
  },
  {
   "cell_type": "markdown",
   "metadata": {},
   "source": [
    "Let's define three different types of annealing schedules."
   ]
  },
  {
   "cell_type": "code",
   "execution_count": 5,
   "metadata": {},
   "outputs": [],
   "source": [
    "# linear temperature schedule\n",
    "def LinearTemperatureSchedule(n_temp, tmax, tmin):\n",
    "    temperature = np.zeros(n_temp)\n",
    "    for i in range(n_temp):\n",
    "        temperature[i] = tmax - i*(tmax-tmin)/(n_temp-1)\n",
    "    return temperature\n",
    "\n",
    "def ExponentialTemperatureSchedule(tmax, tmin, factor):\n",
    "    temperature = []\n",
    "    temperature.append(tmax)\n",
    "    this_t = tmax\n",
    "    while this_t > tmin:\n",
    "        this_t = temperature[-1]*factor\n",
    "        temperature.append(this_t)\n",
    "    return np.array(temperature)\n",
    "\n",
    "def LogarithmicTemperatureSchedule(n_temp):\n",
    "    temperature  = []\n",
    "    for i in range(n_temp):\n",
    "        temperature.append(1.0/(np.log(i+1)+1))\n",
    "    \n",
    "    return np.array(temperature)\n",
    "        "
   ]
  },
  {
   "cell_type": "markdown",
   "metadata": {},
   "source": [
    "Here we define the Metropolis-Hastings sweep"
   ]
  },
  {
   "cell_type": "code",
   "execution_count": 6,
   "metadata": {},
   "outputs": [],
   "source": [
    "# define the metropolis sweep\n",
    "def metropolis(s,J,h,L,T):\n",
    "    # do L steps\n",
    "    for i_spin in range(L):\n",
    "        this_s = np.random.randint(0,L)\n",
    "        new_s = s.copy()\n",
    "        new_s[this_s] = -s[this_s]\n",
    "        dE = DeltaEnergy(h=h,J=J,s=s,s_new=new_s)\n",
    "        if (np.exp(-dE/T) >= np.random.rand()):\n",
    "            return new_s\n",
    "        else:\n",
    "            return s "
   ]
  },
  {
   "cell_type": "markdown",
   "metadata": {},
   "source": [
    "and here the SA implementation"
   ]
  },
  {
   "cell_type": "code",
   "execution_count": 7,
   "metadata": {},
   "outputs": [],
   "source": [
    "def SimulatedAnnealing(temperature, n_steps, J,h,L):\n",
    "    #initialize a state:\n",
    "    s = PrepareInitialState(L)\n",
    "    for T in temperature:\n",
    "        # equilibrate\n",
    "        for step in range(n_steps):\n",
    "            s = metropolis(s=s, J=J,h=h,L=L,T=T)\n",
    "\n",
    "        #print('T, Energy:', T, Energy(h=h,J=J,s=s)) \n",
    "    \n",
    "    return s,Energy(h=h,J=J,s=s)"
   ]
  },
  {
   "cell_type": "markdown",
   "metadata": {},
   "source": [
    "Here we define the sampling using the simulated annealing"
   ]
  },
  {
   "cell_type": "code",
   "execution_count": 8,
   "metadata": {},
   "outputs": [],
   "source": [
    "def SamplesFromAnnealing(temperature, n_steps, J,h,L, n_samples=100, feedback = 0):\n",
    "    s = []\n",
    "    E = []\n",
    "    for i_step in range(n_samples):\n",
    "        s_this,E_this =  SimulatedAnnealing(temperature,n_steps, J,h,L)\n",
    "        \n",
    "        s.append(s_this)\n",
    "        E.append(E_this)\n",
    "        \n",
    "        if feedback>0:\n",
    "            print('step:', i_step, 'current_min',min(E))\n",
    "\n",
    "        \n",
    "    return s,np.array(E)"
   ]
  },
  {
   "cell_type": "markdown",
   "metadata": {},
   "source": [
    "## Building the problem\n",
    "\n",
    "### Problem 1\n",
    "\n",
    "Here we fix the problem parameters:"
   ]
  },
  {
   "cell_type": "code",
   "execution_count": 9,
   "metadata": {},
   "outputs": [],
   "source": [
    "# some parameters\n",
    "L = 4"
   ]
  },
  {
   "cell_type": "code",
   "execution_count": 10,
   "metadata": {},
   "outputs": [],
   "source": [
    "# define the biases\n",
    "h = np.zeros(L*L)"
   ]
  },
  {
   "cell_type": "code",
   "execution_count": 11,
   "metadata": {},
   "outputs": [],
   "source": [
    "# define the couplings\n",
    "J = np.zeros((L*L,L*L))"
   ]
  },
  {
   "cell_type": "code",
   "execution_count": 12,
   "metadata": {},
   "outputs": [],
   "source": [
    "# if the other couplings are 1.. I don't remember\n",
    "for i in range(L*L-1):\n",
    "    if (i+1) % L != 0:\n",
    "        J[i,i+1] = 1\n",
    "    if i < L*(L-1):\n",
    "        J[i,i+L] = 1\n",
    "    "
   ]
  },
  {
   "cell_type": "code",
   "execution_count": 13,
   "metadata": {},
   "outputs": [],
   "source": [
    "# Set the non-zero couplings\n",
    "J[2,6] = -1.0\n",
    "J[5,9] = -1.0\n",
    "J[10,14] = -1.0"
   ]
  },
  {
   "cell_type": "markdown",
   "metadata": {},
   "source": [
    "## Visualizations.\n",
    "\n",
    "Here we want to plot the problems we are trying to solve."
   ]
  },
  {
   "cell_type": "code",
   "execution_count": 14,
   "metadata": {},
   "outputs": [],
   "source": [
    "def DrawProblem(L,h,J):\n",
    "    # coordinates of the spins\n",
    "    fig = plt.figure(figsize = (5,5))\n",
    "    spins_x = np.array([[i for j in range(L)] for i in range(L)]).flatten()\n",
    "    spins_y = np.array([[i for i in range(L)] for j in range(L)]).flatten()\n",
    "    \n",
    "    \n",
    "    # now draw the lines\n",
    "    for i in range(L*L):\n",
    "        for j in range(L*L):\n",
    "            if J[i,j] != 0 :\n",
    "                if J[i,j] > 0:\n",
    "                    color = 'red'\n",
    "                    lw = 1\n",
    "                    ls = '-'\n",
    "                    z = 2\n",
    "                else:\n",
    "                    if (J[i,j] <= -1):\n",
    "                        lw = 1.5\n",
    "                        ls = '-'\n",
    "                    else: \n",
    "                        lw = 1\n",
    "                        ls = '--'\n",
    "                        \n",
    "                    color = 'black'\n",
    "                    z = 1\n",
    "                \n",
    "                points_x = [spins_x[i],spins_x[j]]\n",
    "                points_y = [spins_y[i],spins_y[j]]\n",
    "                \n",
    "                plt.plot(points_x, points_y, color=color, linewidth = lw, linestyle = ls, zorder=z)\n",
    "                \n",
    "    colors = [ 'grey' for i in range(L*L)]\n",
    "    for i in range(L*L):\n",
    "        if h[i] > 0:\n",
    "            colors[i] = 'red'\n",
    "        elif h[i] < 0:\n",
    "            colors[i] = 'magenta'\n",
    "    \n",
    "    plt.scatter(spins_x, spins_y, marker = 'o', color = colors, zorder = 3, s = 50)\n",
    "                \n",
    "    \n",
    "    plt.show()"
   ]
  },
  {
   "cell_type": "markdown",
   "metadata": {},
   "source": [
    "Let's draw the problem: the blue thin lines represent positive (+1) couplers, $J_{ij} = 1$ between the spins, while the thick red lines represent negative couplers between the spins $J_{ij} = -1$."
   ]
  },
  {
   "cell_type": "code",
   "execution_count": 15,
   "metadata": {},
   "outputs": [
    {
     "data": {
      "image/png": "[encoded data removed]",
      "text/plain": [
       "<Figure size 360x360 with 1 Axes>"
      ]
     },
     "metadata": {},
     "output_type": "display_data"
    }
   ],
   "source": [
    "DrawProblem(L,h=h,J=J)"
   ]
  },
  {
   "cell_type": "markdown",
   "metadata": {},
   "source": [
    "## Problem 2"
   ]
  },
  {
   "cell_type": "markdown",
   "metadata": {},
   "source": [
    "For now let's work with problem 2. Found on https://arxiv.org/pdf/1606.06833.pdf"
   ]
  },
  {
   "cell_type": "code",
   "execution_count": 16,
   "metadata": {},
   "outputs": [],
   "source": [
    "L = 4"
   ]
  },
  {
   "cell_type": "code",
   "execution_count": 17,
   "metadata": {},
   "outputs": [],
   "source": [
    "h = np.zeros(L*L)"
   ]
  },
  {
   "cell_type": "code",
   "execution_count": 158,
   "metadata": {},
   "outputs": [],
   "source": [
    "delta = -1"
   ]
  },
  {
   "cell_type": "code",
   "execution_count": 159,
   "metadata": {},
   "outputs": [],
   "source": [
    "# Define the biases!\n",
    "red = [0,3,4,7,8,11,12,15]\n",
    "magenta = [1,5,6,10,13,14]\n",
    "grey = [2,9]"
   ]
  },
  {
   "cell_type": "code",
   "execution_count": 160,
   "metadata": {},
   "outputs": [],
   "source": [
    "# set the positive and negative biases\n",
    "h[red] = 1\n",
    "h[magenta] = -1"
   ]
  },
  {
   "cell_type": "code",
   "execution_count": 161,
   "metadata": {},
   "outputs": [],
   "source": [
    "# set the dashed ()\n",
    "dashed = [np.array([0,0,3,3,8,8,11,11]),\n",
    "         np.array([4,7,4,7,12,15,12,15])]"
   ]
  },
  {
   "cell_type": "code",
   "execution_count": 162,
   "metadata": {},
   "outputs": [],
   "source": [
    "solid = [np.array([0,1,1,1,2,2,2, 2,4,6,8, 9, 9,10,10,10,12,14]),\n",
    "        np.array([1,5,6,9,3,5,6,10,5,7,9,13,14,11,13,14,13,15])]"
   ]
  },
  {
   "cell_type": "code",
   "execution_count": 163,
   "metadata": {},
   "outputs": [],
   "source": [
    "J = np.zeros((L*L,L*L))"
   ]
  },
  {
   "cell_type": "code",
   "execution_count": 167,
   "metadata": {},
   "outputs": [],
   "source": [
    "J[dashed] = - delta"
   ]
  },
  {
   "cell_type": "code",
   "execution_count": 168,
   "metadata": {},
   "outputs": [],
   "source": [
    "J[solid] = -1.0"
   ]
  },
  {
   "cell_type": "code",
   "execution_count": 169,
   "metadata": {},
   "outputs": [
    {
     "data": {
      "image/png": "[encoded data removed]",
      "text/plain": [
       "<Figure size 360x360 with 1 Axes>"
      ]
     },
     "metadata": {},
     "output_type": "display_data"
    }
   ],
   "source": [
    "DrawProblem(L,h=h,J=J)"
   ]
  },
  {
   "cell_type": "markdown",
   "metadata": {},
   "source": [
    "Let's also plot the annealing schedule,"
   ]
  },
  {
   "cell_type": "code",
   "execution_count": 170,
   "metadata": {},
   "outputs": [],
   "source": [
    "def DrawTemperature(temperature):\n",
    "    plt.plot(np.arange(temperature.shape[0]), temperature)\n",
    "    plt.xlabel('Annealing Step')\n",
    "    plt.ylabel(r'$k_B T$')\n",
    "    plt.show()"
   ]
  },
  {
   "cell_type": "markdown",
   "metadata": {},
   "source": [
    "define a function to plot the solutions,"
   ]
  },
  {
   "cell_type": "code",
   "execution_count": 171,
   "metadata": {},
   "outputs": [],
   "source": [
    "def DrawSolution(spins):\n",
    "    fig = plt.figure(figsize = (5,5))\n",
    "    spins_x = np.array([[i for j in range(L)] for i in range(L)]).flatten()\n",
    "    spins_y = np.array([[i for i in range(L)] for j in range(L)]).flatten()\n",
    "    \n",
    "    for i in range(spins.shape[0]):\n",
    "        if spins[i]>0:\n",
    "            color = 'C0'\n",
    "            marker = '^'\n",
    "        else:\n",
    "            color = 'red'\n",
    "            marker = 'v'\n",
    "            \n",
    "        x = spins_x[i]\n",
    "        y = spins_y[i]\n",
    "        plt.scatter(x, y, marker = marker, color = color, s = 50 )\n",
    "    plt.show()\n"
   ]
  },
  {
   "cell_type": "markdown",
   "metadata": {},
   "source": [
    "and a function to plot the Energy histogram"
   ]
  },
  {
   "cell_type": "code",
   "execution_count": 172,
   "metadata": {},
   "outputs": [],
   "source": [
    "def PlotEnergyHistogram(E):\n",
    "    # fixed bin size\n",
    "    bins = np.arange(min(E),max(E), 1) # fixed bin size\n",
    "    plt.xlim([min(E)-2, max(E)+2])\n",
    "    plt.hist(E, bins=bins, alpha=0.5, )\n",
    "    plt.title('Energy distribution')\n",
    "    plt.xlabel('Energy')\n",
    "    plt.ylabel('# of solutions provided')\n",
    "    plt.show()"
   ]
  },
  {
   "cell_type": "markdown",
   "metadata": {},
   "source": [
    "## 1. Exact Method\n",
    "Since this problem is small we can quickly explore all the different states:"
   ]
  },
  {
   "cell_type": "code",
   "execution_count": 173,
   "metadata": {},
   "outputs": [],
   "source": [
    "import itertools\n",
    "lst = list(map(list, itertools.product([-1, 1], repeat=L*L)))"
   ]
  },
  {
   "cell_type": "markdown",
   "metadata": {},
   "source": [
    "there are "
   ]
  },
  {
   "cell_type": "code",
   "execution_count": 174,
   "metadata": {},
   "outputs": [
    {
     "data": {
      "text/plain": [
       "65536"
      ]
     },
     "execution_count": 174,
     "metadata": {},
     "output_type": "execute_result"
    }
   ],
   "source": [
    "len(lst)"
   ]
  },
  {
   "cell_type": "markdown",
   "metadata": {},
   "source": [
    "different states. Let's calculate the energy for each state"
   ]
  },
  {
   "cell_type": "code",
   "execution_count": 175,
   "metadata": {},
   "outputs": [],
   "source": [
    "E_exact = []\n",
    "for s in lst:\n",
    "    this_s = np.array(s)\n",
    "    E_exact.append(Energy(h,J,this_s))"
   ]
  },
  {
   "cell_type": "code",
   "execution_count": 176,
   "metadata": {},
   "outputs": [],
   "source": [
    "Emin=np.min(E_exact)"
   ]
  },
  {
   "cell_type": "code",
   "execution_count": 177,
   "metadata": {},
   "outputs": [
    {
     "data": {
      "text/plain": [
       "-24.0"
      ]
     },
     "execution_count": 177,
     "metadata": {},
     "output_type": "execute_result"
    }
   ],
   "source": [
    "Emin"
   ]
  },
  {
   "cell_type": "markdown",
   "metadata": {},
   "source": [
    "There are "
   ]
  },
  {
   "cell_type": "code",
   "execution_count": 178,
   "metadata": {},
   "outputs": [
    {
     "data": {
      "text/plain": [
       "4"
      ]
     },
     "execution_count": 178,
     "metadata": {},
     "output_type": "execute_result"
    }
   ],
   "source": [
    "np.where(E_exact==Emin)[0].shape[0]"
   ]
  },
  {
   "cell_type": "markdown",
   "metadata": {},
   "source": [
    "ground states. Let's print them"
   ]
  },
  {
   "cell_type": "code",
   "execution_count": 179,
   "metadata": {},
   "outputs": [],
   "source": [
    "minima_exact=np.where(E_exact==Emin)[0]"
   ]
  },
  {
   "cell_type": "code",
   "execution_count": 180,
   "metadata": {},
   "outputs": [
    {
     "data": {
      "text/plain": [
       "array([28527, 28662, 63087, 63222])"
      ]
     },
     "execution_count": 180,
     "metadata": {},
     "output_type": "execute_result"
    }
   ],
   "source": [
    "minima_exact"
   ]
  },
  {
   "cell_type": "code",
   "execution_count": 181,
   "metadata": {},
   "outputs": [
    {
     "name": "stdout",
     "output_type": "stream",
     "text": [
      "[-1, 1, 1, -1, 1, 1, 1, 1, -1, 1, 1, -1, 1, 1, 1, 1]\n",
      "[-1, 1, 1, -1, 1, 1, 1, 1, 1, 1, 1, 1, -1, 1, 1, -1]\n",
      "[1, 1, 1, 1, -1, 1, 1, -1, -1, 1, 1, -1, 1, 1, 1, 1]\n",
      "[1, 1, 1, 1, -1, 1, 1, -1, 1, 1, 1, 1, -1, 1, 1, -1]\n"
     ]
    }
   ],
   "source": [
    "for m in minima_exact:\n",
    "    print(lst[m])"
   ]
  },
  {
   "cell_type": "markdown",
   "metadata": {},
   "source": [
    "Let's visualize the ground states"
   ]
  },
  {
   "cell_type": "code",
   "execution_count": 182,
   "metadata": {},
   "outputs": [
    {
     "data": {
      "image/png": "[encoded data removed]",
      "text/plain": [
       "<Figure size 360x360 with 1 Axes>"
      ]
     },
     "metadata": {},
     "output_type": "display_data"
    }
   ],
   "source": [
    "DrawSolution(np.array(lst[minima_exact[0]]))"
   ]
  },
  {
   "cell_type": "code",
   "execution_count": 183,
   "metadata": {},
   "outputs": [
    {
     "data": {
      "image/png": "[encoded data removed]",
      "text/plain": [
       "<Figure size 432x288 with 1 Axes>"
      ]
     },
     "metadata": {},
     "output_type": "display_data"
    }
   ],
   "source": [
    "PlotEnergyHistogram(E_exact)"
   ]
  },
  {
   "cell_type": "markdown",
   "metadata": {},
   "source": [
    "## 2. Drawing samples from annealing.\n",
    "\n",
    "Here we try to generate some samples from Simulated Annealing. They should ideally be close to the ground state"
   ]
  },
  {
   "cell_type": "markdown",
   "metadata": {},
   "source": [
    "## 2.1. Exponential temperature schedule"
   ]
  },
  {
   "cell_type": "code",
   "execution_count": 184,
   "metadata": {},
   "outputs": [],
   "source": [
    "temperature = ExponentialTemperatureSchedule(tmax=5,tmin=0.01,factor=0.8)"
   ]
  },
  {
   "cell_type": "code",
   "execution_count": 185,
   "metadata": {},
   "outputs": [
    {
     "data": {
      "image/png": "[encoded data removed]",
      "text/plain": [
       "<Figure size 432x288 with 1 Axes>"
      ]
     },
     "metadata": {},
     "output_type": "display_data"
    }
   ],
   "source": [
    "DrawTemperature(temperature)"
   ]
  },
  {
   "cell_type": "code",
   "execution_count": 186,
   "metadata": {},
   "outputs": [],
   "source": [
    "s_exp,E_exp=SamplesFromAnnealing(temperature=temperature,  # temperatures schedule\n",
    "                         n_steps=1,        # M-H steps for each temperature\n",
    "                         J=J,h=h,L=L,      # parameters of the problem\n",
    "                         n_samples=50000,   # how many samples to draw\n",
    "                         feedback=0)"
   ]
  },
  {
   "cell_type": "code",
   "execution_count": 187,
   "metadata": {},
   "outputs": [
    {
     "data": {
      "text/plain": [
       "-24.0"
      ]
     },
     "execution_count": 187,
     "metadata": {},
     "output_type": "execute_result"
    }
   ],
   "source": [
    "minE=np.min(E_exp)\n",
    "minE"
   ]
  },
  {
   "cell_type": "code",
   "execution_count": 188,
   "metadata": {},
   "outputs": [
    {
     "data": {
      "text/plain": [
       "48"
      ]
     },
     "execution_count": 188,
     "metadata": {},
     "output_type": "execute_result"
    }
   ],
   "source": [
    "# number of minima found\n",
    "np.where(E_exp==minE)[0].shape[0]"
   ]
  },
  {
   "cell_type": "code",
   "execution_count": 189,
   "metadata": {},
   "outputs": [],
   "source": [
    "minima=np.where(E_exp==minE)[0]"
   ]
  },
  {
   "cell_type": "code",
   "execution_count": 190,
   "metadata": {},
   "outputs": [
    {
     "name": "stdout",
     "output_type": "stream",
     "text": [
      "[ 1  1  1  1 -1  1  1 -1 -1  1  1 -1  1  1  1  1]\n",
      "[-1  1  1 -1  1  1  1  1 -1  1  1 -1  1  1  1  1]\n",
      "[ 1  1  1  1 -1  1  1 -1 -1  1  1 -1  1  1  1  1]\n",
      "[-1  1  1 -1  1  1  1  1  1  1  1  1 -1  1  1 -1]\n",
      "[-1  1  1 -1  1  1  1  1 -1  1  1 -1  1  1  1  1]\n",
      "[ 1  1  1  1 -1  1  1 -1 -1  1  1 -1  1  1  1  1]\n",
      "[ 1  1  1  1 -1  1  1 -1 -1  1  1 -1  1  1  1  1]\n",
      "[-1  1  1 -1  1  1  1  1 -1  1  1 -1  1  1  1  1]\n",
      "[ 1  1  1  1 -1  1  1 -1 -1  1  1 -1  1  1  1  1]\n",
      "[-1  1  1 -1  1  1  1  1  1  1  1  1 -1  1  1 -1]\n",
      "[ 1  1  1  1 -1  1  1 -1  1  1  1  1 -1  1  1 -1]\n",
      "[-1  1  1 -1  1  1  1  1 -1  1  1 -1  1  1  1  1]\n",
      "[-1  1  1 -1  1  1  1  1  1  1  1  1 -1  1  1 -1]\n",
      "[ 1  1  1  1 -1  1  1 -1  1  1  1  1 -1  1  1 -1]\n",
      "[-1  1  1 -1  1  1  1  1 -1  1  1 -1  1  1  1  1]\n",
      "[-1  1  1 -1  1  1  1  1  1  1  1  1 -1  1  1 -1]\n",
      "[ 1  1  1  1 -1  1  1 -1 -1  1  1 -1  1  1  1  1]\n",
      "[ 1  1  1  1 -1  1  1 -1  1  1  1  1 -1  1  1 -1]\n",
      "[ 1  1  1  1 -1  1  1 -1 -1  1  1 -1  1  1  1  1]\n",
      "[ 1  1  1  1 -1  1  1 -1 -1  1  1 -1  1  1  1  1]\n",
      "[ 1  1  1  1 -1  1  1 -1  1  1  1  1 -1  1  1 -1]\n",
      "[-1  1  1 -1  1  1  1  1 -1  1  1 -1  1  1  1  1]\n",
      "[ 1  1  1  1 -1  1  1 -1  1  1  1  1 -1  1  1 -1]\n",
      "[-1  1  1 -1  1  1  1  1  1  1  1  1 -1  1  1 -1]\n",
      "[-1  1  1 -1  1  1  1  1 -1  1  1 -1  1  1  1  1]\n",
      "[ 1  1  1  1 -1  1  1 -1  1  1  1  1 -1  1  1 -1]\n",
      "[-1  1  1 -1  1  1  1  1  1  1  1  1 -1  1  1 -1]\n",
      "[-1  1  1 -1  1  1  1  1 -1  1  1 -1  1  1  1  1]\n",
      "[-1  1  1 -1  1  1  1  1  1  1  1  1 -1  1  1 -1]\n",
      "[ 1  1  1  1 -1  1  1 -1  1  1  1  1 -1  1  1 -1]\n",
      "[ 1  1  1  1 -1  1  1 -1 -1  1  1 -1  1  1  1  1]\n",
      "[ 1  1  1  1 -1  1  1 -1 -1  1  1 -1  1  1  1  1]\n",
      "[-1  1  1 -1  1  1  1  1  1  1  1  1 -1  1  1 -1]\n",
      "[-1  1  1 -1  1  1  1  1 -1  1  1 -1  1  1  1  1]\n",
      "[-1  1  1 -1  1  1  1  1  1  1  1  1 -1  1  1 -1]\n",
      "[-1  1  1 -1  1  1  1  1 -1  1  1 -1  1  1  1  1]\n",
      "[ 1  1  1  1 -1  1  1 -1 -1  1  1 -1  1  1  1  1]\n",
      "[ 1  1  1  1 -1  1  1 -1 -1  1  1 -1  1  1  1  1]\n",
      "[-1  1  1 -1  1  1  1  1  1  1  1  1 -1  1  1 -1]\n",
      "[ 1  1  1  1 -1  1  1 -1  1  1  1  1 -1  1  1 -1]\n",
      "[ 1  1  1  1 -1  1  1 -1 -1  1  1 -1  1  1  1  1]\n",
      "[-1  1  1 -1  1  1  1  1  1  1  1  1 -1  1  1 -1]\n",
      "[ 1  1  1  1 -1  1  1 -1 -1  1  1 -1  1  1  1  1]\n",
      "[ 1  1  1  1 -1  1  1 -1 -1  1  1 -1  1  1  1  1]\n",
      "[-1  1  1 -1  1  1  1  1  1  1  1  1 -1  1  1 -1]\n",
      "[-1  1  1 -1  1  1  1  1 -1  1  1 -1  1  1  1  1]\n",
      "[ 1  1  1  1 -1  1  1 -1  1  1  1  1 -1  1  1 -1]\n",
      "[ 1  1  1  1 -1  1  1 -1  1  1  1  1 -1  1  1 -1]\n"
     ]
    }
   ],
   "source": [
    "for m in minima:\n",
    "    print(s_exp[m])"
   ]
  },
  {
   "cell_type": "code",
   "execution_count": 191,
   "metadata": {},
   "outputs": [
    {
     "data": {
      "text/plain": [
       "array([  136,   138,  2939,  6292,  6859,  7382,  7593,  8218, 10618,\n",
       "       11791, 12301, 13557, 13845, 14553, 16136, 16360, 19159, 19731,\n",
       "       21421, 22167, 22623, 23340, 23511, 23750, 23902, 24467, 24831,\n",
       "       25117, 25280, 25633, 27016, 27053, 28821, 28899, 32631, 35142,\n",
       "       36642, 38307, 40039, 40426, 40735, 41352, 41556, 42483, 44552,\n",
       "       44630, 46174, 46310])"
      ]
     },
     "execution_count": 191,
     "metadata": {},
     "output_type": "execute_result"
    }
   ],
   "source": [
    "np.where(E_exp==minE)[0]"
   ]
  },
  {
   "cell_type": "markdown",
   "metadata": {},
   "source": [
    "Let's draw on of the minimal solutions."
   ]
  },
  {
   "cell_type": "code",
   "execution_count": 192,
   "metadata": {},
   "outputs": [
    {
     "data": {
      "image/png": "[encoded data removed]",
      "text/plain": [
       "<Figure size 360x360 with 1 Axes>"
      ]
     },
     "metadata": {},
     "output_type": "display_data"
    }
   ],
   "source": [
    "DrawSolution(s_exp[np.where(E_exp==minE)[0][0]])"
   ]
  },
  {
   "cell_type": "code",
   "execution_count": 193,
   "metadata": {},
   "outputs": [
    {
     "data": {
      "image/png": "[encoded data removed]",
      "text/plain": [
       "<Figure size 432x288 with 1 Axes>"
      ]
     },
     "metadata": {},
     "output_type": "display_data"
    }
   ],
   "source": [
    "PlotEnergyHistogram(E_exp)"
   ]
  },
  {
   "cell_type": "markdown",
   "metadata": {},
   "source": [
    "## 2.2. Linear temperature schedule"
   ]
  },
  {
   "cell_type": "code",
   "execution_count": 194,
   "metadata": {},
   "outputs": [],
   "source": [
    "temperature = LinearTemperatureSchedule(n_temp=10,tmax=5,tmin=0.01)"
   ]
  },
  {
   "cell_type": "code",
   "execution_count": 195,
   "metadata": {},
   "outputs": [
    {
     "data": {
      "image/png": "[encoded data removed]",
      "text/plain": [
       "<Figure size 432x288 with 1 Axes>"
      ]
     },
     "metadata": {},
     "output_type": "display_data"
    }
   ],
   "source": [
    "DrawTemperature(temperature)"
   ]
  },
  {
   "cell_type": "code",
   "execution_count": 85,
   "metadata": {},
   "outputs": [
    {
     "name": "stderr",
     "output_type": "stream",
     "text": [
      "/Users/alexzucca/anaconda3/lib/python3.6/site-packages/ipykernel_launcher.py:9: RuntimeWarning: overflow encountered in exp\n",
      "  if __name__ == '__main__':\n"
     ]
    }
   ],
   "source": [
    "s_lin,E_lin=SamplesFromAnnealing(temperature=temperature,  # temperatures schedule\n",
    "                         n_steps=1,               # M-H steps for each temperature\n",
    "                         J=J,h=h,L=L,              # parameters of the problem\n",
    "                         n_samples=50000,          # how many samples to draw\n",
    "                         feedback=0)"
   ]
  },
  {
   "cell_type": "code",
   "execution_count": 86,
   "metadata": {},
   "outputs": [
    {
     "data": {
      "image/png": "[encoded data removed]",
      "text/plain": [
       "<Figure size 432x288 with 1 Axes>"
      ]
     },
     "metadata": {},
     "output_type": "display_data"
    }
   ],
   "source": [
    "PlotEnergyHistogram(E_lin)"
   ]
  },
  {
   "cell_type": "markdown",
   "metadata": {},
   "source": [
    "## 2.3. Logarithmic Temperature Schedule"
   ]
  },
  {
   "cell_type": "code",
   "execution_count": 60,
   "metadata": {},
   "outputs": [],
   "source": [
    "temperature = LogarithmicTemperatureSchedule(n_temp=10)"
   ]
  },
  {
   "cell_type": "code",
   "execution_count": 61,
   "metadata": {},
   "outputs": [
    {
     "data": {
      "image/png": "[encoded data removed]",
      "text/plain": [
       "<Figure size 432x288 with 1 Axes>"
      ]
     },
     "metadata": {},
     "output_type": "display_data"
    }
   ],
   "source": [
    "DrawTemperature(temperature)"
   ]
  },
  {
   "cell_type": "code",
   "execution_count": 62,
   "metadata": {},
   "outputs": [],
   "source": [
    "s_log,E_log=SamplesFromAnnealing(temperature=temperature,  # temperatures schedule\n",
    "                         n_steps=1,               # M-H steps for each temperature\n",
    "                         J=J,h=h,L=L,              # parameters of the problem\n",
    "                         n_samples=10000,          # how many samples to draw\n",
    "                         feedback=0)"
   ]
  },
  {
   "cell_type": "code",
   "execution_count": 63,
   "metadata": {},
   "outputs": [
    {
     "data": {
      "image/png": "[encoded data removed]",
      "text/plain": [
       "<Figure size 432x288 with 1 Axes>"
      ]
     },
     "metadata": {},
     "output_type": "display_data"
    }
   ],
   "source": [
    "PlotEnergyHistogram(E_log)"
   ]
  },
  {
   "cell_type": "markdown",
   "metadata": {},
   "source": [
    "## 2.4. Constant Temperature\n",
    "\n",
    "This is not optimized for now."
   ]
  },
  {
   "cell_type": "code",
   "execution_count": 64,
   "metadata": {},
   "outputs": [
    {
     "name": "stderr",
     "output_type": "stream",
     "text": [
      "/Users/alexzucca/anaconda3/lib/python3.6/site-packages/ipykernel_launcher.py:9: RuntimeWarning: overflow encountered in exp\n",
      "  if __name__ == '__main__':\n"
     ]
    }
   ],
   "source": [
    "s_const,E_const=SamplesFromAnnealing(temperature=[0.01],      # temperatures schedule\n",
    "                         n_steps=10000,               # M-H steps for each temperature\n",
    "                         J=J,h=h,L=L,              # parameters of the problem\n",
    "                         n_samples=100,          # how many samples to draw\n",
    "                         feedback=0)"
   ]
  },
  {
   "cell_type": "code",
   "execution_count": 65,
   "metadata": {},
   "outputs": [
    {
     "data": {
      "image/png": "[encoded data removed]",
      "text/plain": [
       "<Figure size 432x288 with 1 Axes>"
      ]
     },
     "metadata": {},
     "output_type": "display_data"
    }
   ],
   "source": [
    "PlotEnergyHistogram(E_const)"
   ]
  },
  {
   "cell_type": "markdown",
   "metadata": {},
   "source": [
    "The constant temperature teramlization did not find the ground state, but the implementation is not correct"
   ]
  },
  {
   "cell_type": "markdown",
   "metadata": {},
   "source": [
    "## Investigating some distributions visually"
   ]
  },
  {
   "cell_type": "code",
   "execution_count": 66,
   "metadata": {},
   "outputs": [],
   "source": [
    "from scipy.optimize import curve_fit"
   ]
  },
  {
   "cell_type": "markdown",
   "metadata": {},
   "source": [
    "Below we define the function\n",
    "$$\n",
    "p(E) = A e^{-\\beta E},\n",
    "$$\n",
    "that we fit on the histogram of the normalized energy distribution obtained for each temperature schedule. Since the problem is small, we computed all the energy states and in the function ``NormalizedHistogram`` we normalize the counts for each energy by its degeneracy. This helps to visualize the Boltzmann (or Gibbs) distribution above."
   ]
  },
  {
   "cell_type": "code",
   "execution_count": 67,
   "metadata": {},
   "outputs": [],
   "source": [
    "def BoltzFunctNoDeg(E,a,b):\n",
    "    return a*np.exp(-b*E)"
   ]
  },
  {
   "cell_type": "code",
   "execution_count": 68,
   "metadata": {},
   "outputs": [],
   "source": [
    "def NormalizedHistogram(E,E_exact):\n",
    "    # find the different values\n",
    "    E_val = np.unique(E_exact)\n",
    "\n",
    "    # calculate the degeneracy of the energy ground states\n",
    "    E_deg = []\n",
    "    for e in E_val:\n",
    "        deg = np.where(E_exact == e)[0].shape[0]\n",
    "        #print(e, deg)\n",
    "        E_deg.append(deg)\n",
    "        \n",
    "    # count the states\n",
    "    E_count = []\n",
    "    for e,deg in zip(E_val,E_deg):\n",
    "        count = np.where(E == e)[0].shape[0]\n",
    "        #print(e, deg)\n",
    "        E_count.append(count/deg)\n",
    "        \n",
    "    #optimize the funtion\n",
    "    popt,pcov = curve_fit(f=BoltzFunctNoDeg, xdata=E_val, ydata=E_count)\n",
    "\n",
    "    # get kT\n",
    "    kt = 1./popt[1]\n",
    "    \n",
    "    # now plotting\n",
    "    fig = plt.figure(figsize = (5,3.5))\n",
    "    ax = fig.add_axes([0,0,1,1])\n",
    "    plt.title('Energy normalized by degeneracy')\n",
    "    ax.bar(E_val, E_count, alpha = 0.5)\n",
    "    ax.plot(E_val, BoltzFunctNoDeg(E_val,*popt), color = 'C1')\n",
    "    ax.text(0.9, 0.9, r'$k_B T$: '+str(kt),\n",
    "        horizontalalignment='right',\n",
    "        verticalalignment='top',\n",
    "        transform=ax.transAxes)\n",
    "    ax.set_xlabel('Energy')\n",
    "    ax.set_ylabel('count/degenarcy')\n",
    "    plt.show()"
   ]
  },
  {
   "cell_type": "markdown",
   "metadata": {},
   "source": [
    "Plot some normalized histograms"
   ]
  },
  {
   "cell_type": "code",
   "execution_count": 196,
   "metadata": {},
   "outputs": [
    {
     "data": {
      "image/png": "[encoded data removed]",
      "text/plain": [
       "<Figure size 360x252 with 1 Axes>"
      ]
     },
     "metadata": {},
     "output_type": "display_data"
    }
   ],
   "source": [
    "NormalizedHistogram(E=E_exp, E_exact=E_exact)"
   ]
  },
  {
   "cell_type": "code",
   "execution_count": 82,
   "metadata": {},
   "outputs": [
    {
     "data": {
      "image/png": "[encoded data removed]",
      "text/plain": [
       "<Figure size 360x252 with 1 Axes>"
      ]
     },
     "metadata": {},
     "output_type": "display_data"
    }
   ],
   "source": [
    "NormalizedHistogram(E=E_lin, E_exact=E_exact)"
   ]
  },
  {
   "cell_type": "code",
   "execution_count": 87,
   "metadata": {},
   "outputs": [
    {
     "data": {
      "image/png": "[encoded data removed]",
      "text/plain": [
       "<Figure size 360x252 with 1 Axes>"
      ]
     },
     "metadata": {},
     "output_type": "display_data"
    }
   ],
   "source": [
    "NormalizedHistogram(E=E_log, E_exact=E_exact)"
   ]
  },
  {
   "cell_type": "code",
   "execution_count": 88,
   "metadata": {},
   "outputs": [
    {
     "data": {
      "image/png": "[encoded data removed]",
      "text/plain": [
       "<Figure size 360x252 with 1 Axes>"
      ]
     },
     "metadata": {},
     "output_type": "display_data"
    }
   ],
   "source": [
    "NormalizedHistogram(E=E_const, E_exact=E_exact)"
   ]
  },
  {
   "cell_type": "code",
   "execution_count": 89,
   "metadata": {},
   "outputs": [
    {
     "data": {
      "image/png": "[encoded data removed]",
      "text/plain": [
       "<Figure size 360x252 with 1 Axes>"
      ]
     },
     "metadata": {},
     "output_type": "display_data"
    }
   ],
   "source": [
    "NormalizedHistogram(E=E_exact, E_exact=E_exact)"
   ]
  },
  {
   "cell_type": "code",
   "execution_count": null,
   "metadata": {},
   "outputs": [],
   "source": []
  }
 ],
 "metadata": {
  "kernelspec": {
   "display_name": "Python 3",
   "language": "python",
   "name": "python3"
  },
  "language_info": {
   "codemirror_mode": {
    "name": "ipython",
    "version": 3
   },
   "file_extension": ".py",
   "mimetype": "text/x-python",
   "name": "python",
   "nbconvert_exporter": "python",
   "pygments_lexer": "ipython3",
   "version": "3.6.8"
  }
 },
 "nbformat": 4,
 "nbformat_minor": 2
}
